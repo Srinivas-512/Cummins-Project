{
 "cells": [
  {
   "cell_type": "code",
   "execution_count": null,
   "metadata": {},
   "outputs": [],
   "source": [
    "import torch\n",
    "import torch.nn as nn\n",
    "import torch.nn.functional as F\n",
    "import pandas as pd"
   ]
  },
  {
   "cell_type": "code",
   "execution_count": null,
   "metadata": {},
   "outputs": [],
   "source": [
    "class Data():\n",
    "    def __init__(self, path):\n",
    "        self.path = path\n",
    "    \n",
    "    def extract(self):\n",
    "        df = pd.read_csv(self.path)\n",
    "        return df"
   ]
  },
  {
   "cell_type": "code",
   "execution_count": null,
   "metadata": {},
   "outputs": [],
   "source": [
    "data = Data('PMSM.csv')\n",
    "df = data.extract()"
   ]
  },
  {
   "cell_type": "code",
   "execution_count": null,
   "metadata": {},
   "outputs": [],
   "source": [
    "df.head(10)"
   ]
  },
  {
   "cell_type": "code",
   "execution_count": null,
   "metadata": {},
   "outputs": [],
   "source": [
    "Ia = torch.tensor(df['Ia_amps'].to_numpy())\n",
    "Ib = torch.tensor(df['Ib_amps'].to_numpy())\n",
    "Ic = torch.tensor(df['Ic_amps'].to_numpy())\n",
    "ang = torch.tensor(df['mAngle_rad'].to_numpy())\n",
    "GaH = torch.tensor(df['GaH_V'].to_numpy())\n",
    "GaL = torch.tensor(df['GaL_V'].to_numpy())\n",
    "GbH = torch.tensor(df['GbH_V'].to_numpy())\n",
    "GbL = torch.tensor(df['GbL_V'].to_numpy())\n",
    "GcH = torch.tensor(df['GcH_V'].to_numpy())\n",
    "GcL = torch.tensor(df['GcL_V'].to_numpy())"
   ]
  },
  {
   "cell_type": "code",
   "execution_count": null,
   "metadata": {},
   "outputs": [],
   "source": [
    "l = len(Ia)"
   ]
  },
  {
   "cell_type": "code",
   "execution_count": null,
   "metadata": {},
   "outputs": [],
   "source": [
    "input = []\n",
    "output = []\n",
    "for i in range(l):\n",
    "    input.append([ang[i], GaH[i], GaL[i], GbH[i], GbL[i], GcH[i], GcL[i]])\n",
    "    output.append([Ia[i], Ib[i], Ic[i]])\n",
    "\n",
    "input = torch.tensor(input, dtype=torch.double)\n",
    "output = torch.tensor(output, dtype=torch.double)"
   ]
  },
  {
   "cell_type": "code",
   "execution_count": null,
   "metadata": {},
   "outputs": [],
   "source": [
    "input = input.to(torch.float32)\n",
    "output = output.to(torch.float32)"
   ]
  },
  {
   "cell_type": "markdown",
   "metadata": {},
   "source": [
    "predict control signals and angle, predict currents"
   ]
  },
  {
   "cell_type": "code",
   "execution_count": null,
   "metadata": {},
   "outputs": [],
   "source": [
    "perm_indices = torch.randperm(input.size(0))\n",
    "input = input[perm_indices]\n",
    "perm_indices = torch.randperm(output.size(0))\n",
    "output = output[perm_indices]\n",
    "train_in = input[:1200001]\n",
    "train_out = output[:1200001]\n",
    "val_in = input[1200001:1600001]\n",
    "val_out = output[1200001:1600001]\n",
    "test_in = input[1600001:]\n",
    "test_out = output[1600001:]"
   ]
  },
  {
   "cell_type": "markdown",
   "metadata": {},
   "source": [
    "1 layer, 10 nodes"
   ]
  },
  {
   "cell_type": "code",
   "execution_count": null,
   "metadata": {},
   "outputs": [],
   "source": [
    "class Motor(nn.Module):\n",
    "    def __init__(self, train_in, train_out, val_in, val_out, test_in, test_out, criterion):\n",
    "        super(Motor, self).__init__()\n",
    "        self.train_in = train_in\n",
    "        self.train_out = train_out\n",
    "        self.val_in = val_in\n",
    "        self.val_out = val_out\n",
    "        self.test_in = test_in\n",
    "        self.test_out = test_out\n",
    "        self.criterion = criterion\n",
    "    \n",
    "    def model(self):\n",
    "        model = nn.Sequential(\n",
    "            nn.Linear(7, 60000),\n",
    "            nn.Tanh(),\n",
    "            nn.Linear(60000, 3),\n",
    "            nn.ReLU()\n",
    "        )\n",
    "        return model\n",
    "    \n",
    "    def train(self, epochs, optimizer, model):\n",
    "        train_loss = 0\n",
    "        for epoch in range(epochs):\n",
    "            preds = model(self.train_in)\n",
    "            train_loss = torch.sum(self.criterion(preds, self.train_out))\n",
    "            print(f'Epoch{epoch}: Train loss = {train_loss}')\n",
    "            train_loss.backward()\n",
    "            optimizer.step()\n",
    "        return model\n",
    "    \n",
    "    def test(self, model):\n",
    "        preds = model(self.test_in)\n",
    "        test_loss = torch.sum(self.criterion(preds, self.test_out))\n",
    "        print(f'Test loss = {test_loss}')"
   ]
  },
  {
   "cell_type": "code",
   "execution_count": null,
   "metadata": {},
   "outputs": [],
   "source": [
    "criterion = F.mse_loss\n",
    "motor = Motor(train_in, train_out, val_in, val_out, test_in, test_out, criterion)\n",
    "model = motor.model()\n",
    "optimizer = torch.optim.Adam(params=model.parameters(), lr = 0.01)\n",
    "model = motor.train(100, optimizer, model)\n",
    "motor.test(model)"
   ]
  }
 ],
 "metadata": {
  "kernelspec": {
   "display_name": "pytorch",
   "language": "python",
   "name": "python3"
  },
  "language_info": {
   "codemirror_mode": {
    "name": "ipython",
    "version": 3
   },
   "file_extension": ".py",
   "mimetype": "text/x-python",
   "name": "python",
   "nbconvert_exporter": "python",
   "pygments_lexer": "ipython3",
   "version": "3.11.5"
  }
 },
 "nbformat": 4,
 "nbformat_minor": 2
}
